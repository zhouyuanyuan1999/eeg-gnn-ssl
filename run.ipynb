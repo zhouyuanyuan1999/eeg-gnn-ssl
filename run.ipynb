{
 "cells": [
  {
   "cell_type": "code",
   "execution_count": null,
   "id": "949e948e-c3d1-41d8-be8b-3e7d9c969cd2",
   "metadata": {
    "tags": []
   },
   "outputs": [],
   "source": [
    "\"\"\"\n",
    "\n",
    "The following command only works with task_ = classification\n",
    "\n",
    "To use pretrained weights, Add --fine_tune --load_model_path {pretrained_checkpoint}\n",
    "\n",
    "To use standardized FFT, Add --standardize\n",
    "\n",
    "\"\"\"\n",
    "\n",
    "import os\n",
    "import warnings\n",
    "warnings.filterwarnings('ignore')\n",
    "\n",
    "resampled_dir = '../../tusz_resampled/'\n",
    "tusz_raw = '../../tusz_raw/'\n",
    "save_dir = './saved_models/'\n",
    "graph = 'individual' #combined for distance, individual for correlation\n",
    "task_ = 'classification' #detection or classification \n",
    "clip_len = 12 #Either 12 or 60\n",
    "ep_num = 60 #default 60\n",
    "batch_size_train = 40 #default 40\n",
    "num_workers = 8 #default 8\n",
    "pretrained_checkpoint = f\"./pretrained/pretrained_{'correlation' if graph =='individual' else 'distance'}_graph_{clip_len}s.pth.tar\"\n",
    "metric_name = 'F1_macro' # Save best by F1_weighted, F1_macro, F1_micro\n",
    "preprocess = 'alpha_fft' # fft, alpha_fft, raw_alpha, raw_beta, raw_theta, raw_delta, raw_gamma_1, raw_gamma_2, dwt_db6, dwt_sym4\n",
    "input_dim = 100 #100 for fft;  200 for bandpassing and raw; 241 for dwt_db6; 227 for dwt sym4\n",
    "\n",
    "\n",
    "!python train.py --input_dir {resampled_dir} --raw_data_dir {tusz_raw} --save_dir {save_dir} --graph_type {graph} --preprocess {preprocess} --max_seq_len {clip_len} --do_train --num_epochs {ep_num} --task {task_} --metric_name {metric_name} --lr_init 3e-4 --num_rnn_layers 2 --rnn_units 64 --max_diffusion_step 2 --num_classes 4 --data_augment --dropout 0.5 --train_batch_size {batch_size_train} --num_workers {num_workers} --input_dim {input_dim} \n"
   ]
  },
  {
   "cell_type": "code",
   "execution_count": null,
   "id": "76830893-152c-43f5-81e1-0d3a7f24ade0",
   "metadata": {},
   "outputs": [],
   "source": []
  }
 ],
 "metadata": {
  "kernelspec": {
   "display_name": "Python 3 (ipykernel)",
   "language": "python",
   "name": "python3"
  },
  "language_info": {
   "codemirror_mode": {
    "name": "ipython",
    "version": 3
   },
   "file_extension": ".py",
   "mimetype": "text/x-python",
   "name": "python",
   "nbconvert_exporter": "python",
   "pygments_lexer": "ipython3",
   "version": "3.7.3"
  }
 },
 "nbformat": 4,
 "nbformat_minor": 5
}
